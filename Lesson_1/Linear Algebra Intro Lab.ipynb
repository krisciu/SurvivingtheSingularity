{
 "cells": [
  {
   "cell_type": "code",
   "execution_count": 1,
   "id": "cae73202-0fe6-415c-a032-7b6213cc1f4c",
   "metadata": {},
   "outputs": [
    {
     "name": "stdout",
     "output_type": "stream",
     "text": [
      "Defaulting to user installation because normal site-packages is not writeable\n",
      "Requirement already satisfied: tensorflow in /home/joekrisciunas/.local/lib/python3.11/site-packages (2.13.0)\n",
      "Requirement already satisfied: absl-py>=1.0.0 in /home/joekrisciunas/.local/lib/python3.11/site-packages (from tensorflow) (1.4.0)\n",
      "Requirement already satisfied: astunparse>=1.6.0 in /home/joekrisciunas/.local/lib/python3.11/site-packages (from tensorflow) (1.6.3)\n",
      "Requirement already satisfied: flatbuffers>=23.1.21 in /home/joekrisciunas/.local/lib/python3.11/site-packages (from tensorflow) (23.5.26)\n",
      "Requirement already satisfied: gast<=0.4.0,>=0.2.1 in /home/joekrisciunas/.local/lib/python3.11/site-packages (from tensorflow) (0.4.0)\n",
      "Requirement already satisfied: google-pasta>=0.1.1 in /home/joekrisciunas/.local/lib/python3.11/site-packages (from tensorflow) (0.2.0)\n",
      "Requirement already satisfied: grpcio<2.0,>=1.24.3 in /usr/lib64/python3.11/site-packages (from tensorflow) (1.48.4)\n",
      "Requirement already satisfied: h5py>=2.9.0 in /home/joekrisciunas/.local/lib/python3.11/site-packages (from tensorflow) (3.9.0)\n",
      "Requirement already satisfied: keras<2.14,>=2.13.1 in /home/joekrisciunas/.local/lib/python3.11/site-packages (from tensorflow) (2.13.1)\n",
      "Requirement already satisfied: libclang>=13.0.0 in /home/joekrisciunas/.local/lib/python3.11/site-packages (from tensorflow) (16.0.0)\n",
      "Requirement already satisfied: numpy<=1.24.3,>=1.22 in /usr/lib64/python3.11/site-packages (from tensorflow) (1.24.3)\n",
      "Requirement already satisfied: opt-einsum>=2.3.2 in /home/joekrisciunas/.local/lib/python3.11/site-packages (from tensorflow) (3.3.0)\n",
      "Requirement already satisfied: packaging in /usr/lib/python3.11/site-packages (from tensorflow) (23.0)\n",
      "Requirement already satisfied: protobuf!=4.21.0,!=4.21.1,!=4.21.2,!=4.21.3,!=4.21.4,!=4.21.5,<5.0.0dev,>=3.20.3 in /home/joekrisciunas/.local/lib/python3.11/site-packages (from tensorflow) (4.23.4)\n",
      "Requirement already satisfied: setuptools in /usr/lib/python3.11/site-packages (from tensorflow) (65.5.1)\n",
      "Requirement already satisfied: six>=1.12.0 in /usr/lib/python3.11/site-packages (from tensorflow) (1.16.0)\n",
      "Requirement already satisfied: tensorboard<2.14,>=2.13 in /home/joekrisciunas/.local/lib/python3.11/site-packages (from tensorflow) (2.13.0)\n",
      "Requirement already satisfied: tensorflow-estimator<2.14,>=2.13.0 in /home/joekrisciunas/.local/lib/python3.11/site-packages (from tensorflow) (2.13.0)\n",
      "Requirement already satisfied: termcolor>=1.1.0 in /home/joekrisciunas/.local/lib/python3.11/site-packages (from tensorflow) (2.3.0)\n",
      "Requirement already satisfied: typing-extensions<4.6.0,>=3.6.6 in /home/joekrisciunas/.local/lib/python3.11/site-packages (from tensorflow) (4.5.0)\n",
      "Requirement already satisfied: wrapt>=1.11.0 in /home/joekrisciunas/.local/lib/python3.11/site-packages (from tensorflow) (1.15.0)\n",
      "Requirement already satisfied: tensorflow-io-gcs-filesystem>=0.23.1 in /home/joekrisciunas/.local/lib/python3.11/site-packages (from tensorflow) (0.32.0)\n",
      "Requirement already satisfied: wheel<1.0,>=0.23.0 in /home/joekrisciunas/.local/lib/python3.11/site-packages (from astunparse>=1.6.0->tensorflow) (0.40.0)\n",
      "Requirement already satisfied: google-auth<3,>=1.6.3 in /usr/lib/python3.11/site-packages (from tensorboard<2.14,>=2.13->tensorflow) (2.21.0)\n",
      "Requirement already satisfied: google-auth-oauthlib<1.1,>=0.5 in /usr/lib/python3.11/site-packages (from tensorboard<2.14,>=2.13->tensorflow) (0.8.0)\n",
      "Requirement already satisfied: markdown>=2.6.8 in /home/joekrisciunas/.local/lib/python3.11/site-packages (from tensorboard<2.14,>=2.13->tensorflow) (3.4.3)\n",
      "Requirement already satisfied: requests<3,>=2.21.0 in /home/joekrisciunas/.local/lib/python3.11/site-packages (from tensorboard<2.14,>=2.13->tensorflow) (2.28.2)\n",
      "Requirement already satisfied: tensorboard-data-server<0.8.0,>=0.7.0 in /home/joekrisciunas/.local/lib/python3.11/site-packages (from tensorboard<2.14,>=2.13->tensorflow) (0.7.1)\n",
      "Requirement already satisfied: werkzeug>=1.0.1 in /home/joekrisciunas/.local/lib/python3.11/site-packages (from tensorboard<2.14,>=2.13->tensorflow) (2.3.6)\n",
      "Requirement already satisfied: cachetools<6.0,>=2.0.0 in /usr/lib/python3.11/site-packages (from google-auth<3,>=1.6.3->tensorboard<2.14,>=2.13->tensorflow) (5.3.0)\n",
      "Requirement already satisfied: pyasn1-modules>=0.2.1 in /usr/lib/python3.11/site-packages (from google-auth<3,>=1.6.3->tensorboard<2.14,>=2.13->tensorflow) (0.2.8)\n",
      "Requirement already satisfied: rsa<5,>=3.1.4 in /usr/lib/python3.11/site-packages (from google-auth<3,>=1.6.3->tensorboard<2.14,>=2.13->tensorflow) (4.8)\n",
      "Requirement already satisfied: urllib3<2.0 in /usr/lib/python3.11/site-packages (from google-auth<3,>=1.6.3->tensorboard<2.14,>=2.13->tensorflow) (1.26.15)\n",
      "Requirement already satisfied: requests-oauthlib>=0.7.0 in /usr/lib/python3.11/site-packages (from google-auth-oauthlib<1.1,>=0.5->tensorboard<2.14,>=2.13->tensorflow) (1.3.1)\n",
      "Requirement already satisfied: charset-normalizer<4,>=2 in /usr/lib/python3.11/site-packages (from requests<3,>=2.21.0->tensorboard<2.14,>=2.13->tensorflow) (3.1.0)\n",
      "Requirement already satisfied: idna<4,>=2.5 in /usr/lib/python3.11/site-packages (from requests<3,>=2.21.0->tensorboard<2.14,>=2.13->tensorflow) (3.4)\n",
      "Requirement already satisfied: certifi>=2017.4.17 in /home/joekrisciunas/.local/lib/python3.11/site-packages (from requests<3,>=2.21.0->tensorboard<2.14,>=2.13->tensorflow) (2022.12.7)\n",
      "Requirement already satisfied: MarkupSafe>=2.1.1 in /usr/lib64/python3.11/site-packages (from werkzeug>=1.0.1->tensorboard<2.14,>=2.13->tensorflow) (2.1.2)\n",
      "Requirement already satisfied: pyasn1<0.5.0,>=0.4.6 in /usr/lib/python3.11/site-packages (from pyasn1-modules>=0.2.1->google-auth<3,>=1.6.3->tensorboard<2.14,>=2.13->tensorflow) (0.4.8)\n",
      "Requirement already satisfied: oauthlib>=3.0.0 in /usr/lib/python3.11/site-packages (from requests-oauthlib>=0.7.0->google-auth-oauthlib<1.1,>=0.5->tensorboard<2.14,>=2.13->tensorflow) (3.2.1)\n"
     ]
    },
    {
     "name": "stderr",
     "output_type": "stream",
     "text": [
      "2023-07-16 13:32:46.756853: I tensorflow/core/util/port.cc:110] oneDNN custom operations are on. You may see slightly different numerical results due to floating-point round-off errors from different computation orders. To turn them off, set the environment variable `TF_ENABLE_ONEDNN_OPTS=0`.\n",
      "2023-07-16 13:32:46.787691: I tensorflow/tsl/cuda/cudart_stub.cc:28] Could not find cuda drivers on your machine, GPU will not be used.\n",
      "2023-07-16 13:32:46.909909: I tensorflow/tsl/cuda/cudart_stub.cc:28] Could not find cuda drivers on your machine, GPU will not be used.\n",
      "2023-07-16 13:32:46.911019: I tensorflow/core/platform/cpu_feature_guard.cc:182] This TensorFlow binary is optimized to use available CPU instructions in performance-critical operations.\n",
      "To enable the following instructions: AVX2 AVX_VNNI FMA, in other operations, rebuild TensorFlow with the appropriate compiler flags.\n",
      "2023-07-16 13:32:48.210879: W tensorflow/compiler/tf2tensorrt/utils/py_utils.cc:38] TF-TRT Warning: Could not find TensorRT\n"
     ]
    }
   ],
   "source": [
    "!pip install tensorflow\n",
    "import tensorflow as tf\n"
   ]
  },
  {
   "cell_type": "code",
   "execution_count": 2,
   "id": "718c7e8d",
   "metadata": {},
   "outputs": [
    {
     "name": "stdout",
     "output_type": "stream",
     "text": [
      "Addition: tf.Tensor(8, shape=(), dtype=int32)\n",
      "Subtraction: tf.Tensor(2, shape=(), dtype=int32)\n",
      "Multiplication: tf.Tensor(15, shape=(), dtype=int32)\n",
      "Division: tf.Tensor(1.6666666666666667, shape=(), dtype=float64)\n"
     ]
    }
   ],
   "source": [
    "# scalar examples\n",
    "\n",
    "# Create scalar tensors\n",
    "scalar1 = tf.constant(5)  # Scalar with value 5\n",
    "scalar2 = tf.constant(3)  # Scalar with value 3\n",
    "\n",
    "# Perform scalar operations\n",
    "addition = tf.add(scalar1, scalar2)  # Addition\n",
    "subtraction = tf.subtract(scalar1, scalar2)  # Subtraction\n",
    "multiplication = tf.multiply(scalar1, scalar2)  # Multiplication\n",
    "division = tf.divide(scalar1, scalar2)  # Division\n",
    "\n",
    "\n",
    "# Print the results\n",
    "print(\"Addition:\", addition)\n",
    "print(\"Subtraction:\", subtraction)\n",
    "print(\"Multiplication:\", multiplication)\n",
    "print(\"Division:\", division)"
   ]
  },
  {
   "cell_type": "code",
   "execution_count": 3,
   "id": "1be34978",
   "metadata": {},
   "outputs": [
    {
     "name": "stdout",
     "output_type": "stream",
     "text": [
      "tf.Tensor([5 7 9], shape=(3,), dtype=int32)\n",
      "tf.Tensor([ 4 10 18], shape=(3,), dtype=int32)\n",
      "tf.Tensor(32, shape=(), dtype=int32)\n"
     ]
    }
   ],
   "source": [
    " #vector examples\n",
    "vector1 = tf.constant([1, 2, 3])  # Vector [1, 2, 3]\n",
    "vector2 = tf.constant([4, 5, 6])  # Vector [4, 5, 6]\n",
    "\n",
    "# Perform vector operations\n",
    "elementwise_sum = tf.add(vector1, vector2)  # Elementwise sum\n",
    "\n",
    "# [1 + 4, 2 + 5, 6 + 3] = [5, 7, 9]\n",
    "\n",
    "elementwise_product = tf.multiply(vector1, vector2)  # Elementwise product\n",
    "\n",
    "#[1 * 4, 2 * 5, 6 * 3] = [4, 10, 18]\n",
    "dot_product = tf.tensordot(vector1, vector2, axes=1)  # Dot product\n",
    "\n",
    "# sum of our elementwise product\n",
    "\n",
    "\n",
    "print(elementwise_sum)\n",
    "print(elementwise_product)\n",
    "print(dot_product)"
   ]
  },
  {
   "cell_type": "code",
   "execution_count": 5,
   "id": "ffc8060b",
   "metadata": {},
   "outputs": [
    {
     "name": "stdout",
     "output_type": "stream",
     "text": [
      "Matrix Sum:\n",
      "tf.Tensor(\n",
      "[[ 6  8]\n",
      " [10 12]], shape=(2, 2), dtype=int32)\n",
      "Matrix Product:\n",
      "tf.Tensor(\n",
      "[[19 22]\n",
      " [43 50]], shape=(2, 2), dtype=int32)\n",
      "Original Matrix:\n",
      "tf.Tensor(\n",
      "[[1 2 3]\n",
      " [4 5 6]], shape=(2, 3), dtype=int32)\n",
      "Transposed Matrix:\n",
      "tf.Tensor(\n",
      "[[1 4]\n",
      " [2 5]\n",
      " [3 6]], shape=(3, 2), dtype=int32)\n"
     ]
    }
   ],
   "source": [
    "#  matrix tensors\n",
    "matrix1 = tf.constant([[1, 2], [3, 4]])  # 2x2 matrix [[1, 2], [3, 4]]\n",
    "matrix2 = tf.constant([[5, 6], [7, 8]])  # 2x2 matrix [[5, 6], [7, 8]]\n",
    "matrix3 = tf.constant([[1, 2, 3], [4, 5, 6]])  # 2x3 matrix\n",
    "\n",
    "# Perform matrix operations\n",
    "matrix_sum = tf.add(matrix1, matrix2)  # Matrix addition\n",
    "# [1 + 5, 2+ 6]    [6, 8]\n",
    "#[3 + 7, 4 + 8] =  [10, 12]\n",
    "\n",
    "matrix_product = tf.matmul(matrix1, matrix2)  # Matrix multiplication\n",
    "# [1 * 5 + 2 * 7. 1 * 6 + 2 * 8]  [19, 22]\n",
    "#[3 * 5 + 4 * 7, 3 * 6 + 4 * 8] = [43,50]\n",
    "\n",
    "transposed_matrix = tf.transpose(matrix3)\n",
    "# [1, 4]\n",
    "# [2, 5]\n",
    "# [3, 6]\n",
    "# Print the results\n",
    "print(\"Matrix Sum:\")\n",
    "print(matrix_sum)\n",
    "print(\"Matrix Product:\")\n",
    "print(matrix_product)\n",
    "\n",
    "print(\"Original Matrix:\")\n",
    "print(matrix3)\n",
    "print(\"Transposed Matrix:\")\n",
    "print(transposed_matrix)\n"
   ]
  },
  {
   "cell_type": "code",
   "execution_count": 6,
   "id": "406cf364",
   "metadata": {},
   "outputs": [
    {
     "name": "stdout",
     "output_type": "stream",
     "text": [
      "Tensor 1:\n",
      "tf.Tensor(\n",
      "[[1 2 3]\n",
      " [4 5 6]], shape=(2, 3), dtype=int32)\n",
      "Tensor 2:\n",
      "tf.Tensor(\n",
      "[[ 2  4  6]\n",
      " [ 8 10 12]], shape=(2, 3), dtype=int32)\n",
      "Hadamard Product:\n",
      "tf.Tensor(\n",
      "[[ 2  8 18]\n",
      " [32 50 72]], shape=(2, 3), dtype=int32)\n"
     ]
    }
   ],
   "source": [
    "# Hadamard Product\n",
    "# Create tensor 1\n",
    "tensor1 = tf.constant([[1, 2, 3], [4, 5, 6]])  # 2x3 tensor\n",
    "\n",
    "# Create tensor 2\n",
    "tensor2 = tf.constant([[2, 4, 6], [8, 10, 12]])  # 2x3 tensor\n",
    "\n",
    "#[1 * 2, 2 * 4, 3 * 6]\n",
    "#[4 * 8, 5 * 10, 6 * 12]\n",
    "\n",
    "# Perform Hadamard product\n",
    "hadamard_product = tf.multiply(tensor1, tensor2)\n",
    "\n",
    "# Print the result\n",
    "print(\"Tensor 1:\")\n",
    "print(tensor1)\n",
    "print(\"Tensor 2:\")\n",
    "print(tensor2)\n",
    "print(\"Hadamard Product:\")\n",
    "print(hadamard_product)\n",
    "\n"
   ]
  },
  {
   "cell_type": "code",
   "execution_count": null,
   "id": "c14b5701",
   "metadata": {},
   "outputs": [],
   "source": [
    "## matrix multiplication example\n",
    "# Create matrix tensors\n",
    "matrix1 = tf.constant([[1, 2, 3], [4, 5, 6]])  # 2x3 matrix\n",
    "matrix2 = tf.constant([[7, 8], [9, 10], [11, 12]])  # 3x2 matrix\n",
    "\n",
    "# Perform matrix multiplication\n",
    "matrix_product = tf.matmul(matrix1, matrix2)\n",
    "\n",
    "\n",
    "# Print the result\n",
    "print(\"Matrix 1:\")\n",
    "print(matrix1)\n",
    "print(\"Matrix 2:\")\n",
    "print(matrix2)\n",
    "print(\"Matrix Product:\")\n",
    "print(matrix_product)"
   ]
  },
  {
   "cell_type": "code",
   "execution_count": 7,
   "id": "6729ac41",
   "metadata": {},
   "outputs": [
    {
     "name": "stdout",
     "output_type": "stream",
     "text": [
      "Tensor:\n",
      "tf.Tensor([1 2 3 4 5], shape=(5,), dtype=int32)\n",
      "Reduced Mean:\n",
      "tf.Tensor(3, shape=(), dtype=int32)\n"
     ]
    }
   ],
   "source": [
    "# reduced mean\n",
    "# Create a tensor\n",
    "tensor = tf.constant([1, 2, 3, 4, 5])\n",
    "\n",
    "# Reduce the tensor using mean\n",
    "reduced_mean = tf.reduce_mean(tensor)\n",
    "\n",
    "#[1 + 2 + 3 +4 + 5]\n",
    "#/ 5\n",
    "\n",
    "# Print the result\n",
    "print(\"Tensor:\")\n",
    "print(tensor)\n",
    "print(\"Reduced Mean:\")\n",
    "print(reduced_mean)"
   ]
  },
  {
   "cell_type": "code",
   "execution_count": 8,
   "id": "c3bc2b5d",
   "metadata": {},
   "outputs": [
    {
     "name": "stdout",
     "output_type": "stream",
     "text": [
      "Tensor:\n",
      "tf.Tensor([1. 2. 3. 4.], shape=(4,), dtype=float32)\n",
      "L2 Norm:\n",
      "tf.Tensor(5.477226, shape=(), dtype=float32)\n",
      "L1 Norm:\n",
      "tf.Tensor(10.0, shape=(), dtype=float32)\n"
     ]
    }
   ],
   "source": [
    "#Norm example\n",
    "# Create a tensor\n",
    "tensor = tf.constant([1, 2, 3, 4], dtype=tf.float32)\n",
    "\n",
    "# Calculate the L2 norm of the tensor\n",
    "l2_norm = tf.norm(tensor, ord=2)\n",
    "\n",
    "#sqrt[1^2 + 2^2 + 3^2 + 4^2]\n",
    "\n",
    "# Calculate the L1 norm of the tensor\n",
    "l1_norm = tf.norm(tensor, ord=1)\n",
    "\n",
    "#1 + 2 + 3 + 4\n",
    "\n",
    "\n",
    "# Print the results\n",
    "print(\"Tensor:\")\n",
    "print(tensor)\n",
    "print(\"L2 Norm:\")\n",
    "print(l2_norm)\n",
    "print(\"L1 Norm:\")\n",
    "print(l1_norm)"
   ]
  },
  {
   "cell_type": "code",
   "execution_count": null,
   "id": "fbedea26",
   "metadata": {},
   "outputs": [],
   "source": []
  }
 ],
 "metadata": {
  "kernelspec": {
   "display_name": "Python 3 (ipykernel)",
   "language": "python",
   "name": "python3"
  },
  "language_info": {
   "codemirror_mode": {
    "name": "ipython",
    "version": 3
   },
   "file_extension": ".py",
   "mimetype": "text/x-python",
   "name": "python",
   "nbconvert_exporter": "python",
   "pygments_lexer": "ipython3",
   "version": "3.11.4"
  }
 },
 "nbformat": 4,
 "nbformat_minor": 5
}
