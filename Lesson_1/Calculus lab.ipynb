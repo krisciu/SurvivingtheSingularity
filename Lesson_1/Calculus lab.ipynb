{
 "cells": [
  {
   "cell_type": "code",
   "execution_count": null,
   "id": "a63c350e",
   "metadata": {},
   "outputs": [],
   "source": [
    "!pip install tensorflow\n",
    "import tensorflow as tf"
   ]
  },
  {
   "cell_type": "markdown",
   "id": "e984a3a7",
   "metadata": {},
   "source": [
    " chain rule example\n",
    "Define the functions\n",
    "\n",
    " f(x)=sin⁡(2x^2+3x)\n",
    "    \n",
    "We have two functions\n",
    "\n",
    "g(u) = 2u^2 + 3u \n",
    "f(u) = sin(g(u))\n",
    "\n",
    "dg/du = 2u^2 = 2 * (2u^(2 - 1)) + 3 * u^1-1 =4u + 3\n",
    "\n",
    "df/du = cos(g(u) \n",
    "\n",
    "Multiply, then substitute\n",
    "4u + 3 * cos(g(u)) \n",
    "\n",
    "(4u + 3) * (cos(2u^2 + 3u) = 4u(cos(2u^2 + 3u)) + 3cos(2u^2 + 3u)\n",
    "\n"
   ]
  },
  {
   "cell_type": "code",
   "execution_count": null,
   "id": "a16ed967",
   "metadata": {},
   "outputs": [],
   "source": [
    "# partial derivative example\n",
    "# Define the function\n",
    "def f(x, y):\n",
    "    return x**2 + 2*x*y + y**2\n",
    "\n",
    "#x^2 + 2xy + y^2\n",
    "\n",
    "#df/dx = 2x[2 * x^2-1] + 2y[2 * x^1-1 * y] + 0\n",
    "\n",
    "#\n",
    "\n",
    "#df/dy = 0 + 2x + 2y\n",
    "\n",
    "# df/dx = 10\n",
    "\n",
    "# df/dy = 10\n",
    "# Create TensorFlow variables\n",
    "x = tf.Variable(3.0)\n",
    "y = tf.Variable(2.0)\n",
    "\n",
    "# Use tf.GradientTape to calculate the partial derivative\n",
    "with tf.GradientTape(persistent=True) as tape:\n",
    "    z = f(x, y)\n",
    "\n",
    "# Calculate the partial derivative of z with respect to x\n",
    "dz_dx = tape.gradient(z, x)\n",
    "\n",
    "# Calculate the partial derivative of z with respect to y\n",
    "dz_dy = tape.gradient(z, y)\n",
    "\n",
    "\n",
    "\n",
    "# Print the results\n",
    "print(\"Partial derivative dz/dx:\", dz_dx)\n",
    "print(\"Partial derivative dz/dy:\", dz_dy)"
   ]
  },
  {
   "cell_type": "code",
   "execution_count": null,
   "id": "8ba14417",
   "metadata": {},
   "outputs": [],
   "source": []
  }
 ],
 "metadata": {
  "kernelspec": {
   "display_name": "Python 3 (ipykernel)",
   "language": "python",
   "name": "python3"
  },
  "language_info": {
   "codemirror_mode": {
    "name": "ipython",
    "version": 3
   },
   "file_extension": ".py",
   "mimetype": "text/x-python",
   "name": "python",
   "nbconvert_exporter": "python",
   "pygments_lexer": "ipython3",
   "version": "3.11.4"
  }
 },
 "nbformat": 4,
 "nbformat_minor": 5
}
