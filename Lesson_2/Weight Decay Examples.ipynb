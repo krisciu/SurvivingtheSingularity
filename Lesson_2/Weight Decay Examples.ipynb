{
 "cells": [
  {
   "cell_type": "code",
   "execution_count": null,
   "id": "872e5219",
   "metadata": {},
   "outputs": [],
   "source": [
    "!pip install torch numpy"
   ]
  },
  {
   "cell_type": "code",
   "execution_count": null,
   "id": "491df152",
   "metadata": {},
   "outputs": [],
   "source": [
    "import numpy as np\n",
    "import torch"
   ]
  },
  {
   "cell_type": "code",
   "execution_count": null,
   "id": "4d97a951",
   "metadata": {},
   "outputs": [],
   "source": [
    "## weight decay\n",
    "# we basically just add the squared l2 penalty to our loss function\n",
    "\n",
    "\n",
    "def L2(x):\n",
    "    return ((x ** 2).sum()) / 2\n"
   ]
  },
  {
   "cell_type": "code",
   "execution_count": null,
   "id": "4b5e335d",
   "metadata": {},
   "outputs": [],
   "source": [
    "#Define new loss function\n",
    "#Now we define our loss function as squared loss\n",
    "def mean_squared_error(predicted_value, actual_value):\n",
    "        diff = predicted_value - actual_value\n",
    "        return torch.sum(diff * diff) / diff.numel()"
   ]
  },
  {
   "cell_type": "code",
   "execution_count": null,
   "id": "7929e843",
   "metadata": {},
   "outputs": [],
   "source": [
    "\n",
    "def loss_function(predicted_value, actual_value, reg_constant, weights):\n",
    "    return (mean_squared_error(predicted_value, actual_value) +\n",
    "            (reg_constant * L2(weights)))"
   ]
  },
  {
   "cell_type": "code",
   "execution_count": null,
   "id": "931db7b0",
   "metadata": {},
   "outputs": [],
   "source": [
    "## see from scratch continuation for more of this"
   ]
  }
 ],
 "metadata": {
  "kernelspec": {
   "display_name": "Python 3 (ipykernel)",
   "language": "python",
   "name": "python3"
  },
  "language_info": {
   "codemirror_mode": {
    "name": "ipython",
    "version": 3
   },
   "file_extension": ".py",
   "mimetype": "text/x-python",
   "name": "python",
   "nbconvert_exporter": "python",
   "pygments_lexer": "ipython3",
   "version": "3.11.4"
  }
 },
 "nbformat": 4,
 "nbformat_minor": 5
}
