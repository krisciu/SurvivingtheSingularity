{
 "cells": [
  {
   "cell_type": "code",
   "execution_count": null,
   "id": "a4b0e5ed",
   "metadata": {},
   "outputs": [],
   "source": [
    "!pip install numpy torch"
   ]
  },
  {
   "cell_type": "code",
   "execution_count": null,
   "id": "0cf46012",
   "metadata": {},
   "outputs": [],
   "source": [
    "import numpy as np\n",
    "import torch\n",
    "from torch import nn\n",
    "from torch.utils.data import TensorDataset, DataLoader"
   ]
  },
  {
   "cell_type": "code",
   "execution_count": null,
   "id": "720e5faa",
   "metadata": {},
   "outputs": [],
   "source": [
    "# the cost of nutreo-cubes in post-singularity 2024 given the number of neo-automata in the region(per capita)\n",
    "# the price of paperclips(in keratin clippings)\n",
    "#quantity of trash in region(trash particles per person)\n",
    "\n",
    "core_dataset = torch.round(torch.abs(torch.randn(50, 3) * 1000))\n",
    "\n",
    "print(core_dataset)"
   ]
  },
  {
   "cell_type": "code",
   "execution_count": null,
   "id": "2ee35430",
   "metadata": {},
   "outputs": [],
   "source": [
    "core_output_dataset = torch.round(torch.abs(torch.randn(50,1)) * 1000) \n",
    "print(core_output_dataset)"
   ]
  },
  {
   "cell_type": "code",
   "execution_count": null,
   "id": "7a018780",
   "metadata": {},
   "outputs": [],
   "source": [
    "# define weights\n",
    "weights = torch.randn(3, 1, requires_grad=True)\n",
    "print(weights)"
   ]
  },
  {
   "cell_type": "code",
   "execution_count": null,
   "id": "c62c4741",
   "metadata": {},
   "outputs": [],
   "source": [
    "# define bias \n",
    "bias = torch.randn(1, requires_grad=True)\n",
    "print(bias)"
   ]
  },
  {
   "cell_type": "code",
   "execution_count": null,
   "id": "85adde54",
   "metadata": {},
   "outputs": [],
   "source": [
    "parameters = [weights, bias]\n"
   ]
  },
  {
   "cell_type": "code",
   "execution_count": null,
   "id": "65987aed",
   "metadata": {},
   "outputs": [],
   "source": [
    "def model(input_data, parameters):\n",
    "    return torch.matmul(input_data, parameters[0]) + bias"
   ]
  },
  {
   "cell_type": "code",
   "execution_count": null,
   "id": "e6aaf2ee",
   "metadata": {},
   "outputs": [],
   "source": [
    "def loss_function(predicted_values, actual_values):\n",
    "    diff = predicted_values - actual_values\n",
    "    return torch.sum(diff * diff) / diff.numel()"
   ]
  },
  {
   "cell_type": "code",
   "execution_count": null,
   "id": "dd9cd01e",
   "metadata": {},
   "outputs": [],
   "source": [
    "single_prediction = model(core_dataset, parameters)\n",
    "print(single_prediction)"
   ]
  },
  {
   "cell_type": "code",
   "execution_count": null,
   "id": "745d02ee",
   "metadata": {},
   "outputs": [],
   "source": [
    "loss = loss_function(single_prediction, core_output_dataset)\n",
    "print(loss)"
   ]
  },
  {
   "cell_type": "code",
   "execution_count": null,
   "id": "889a91e8",
   "metadata": {},
   "outputs": [],
   "source": [
    "def gradient_descent(parameters, learning_rate):\n",
    "    for parameter in parameters:\n",
    "        parameter -= (learning_rate * parameter.grad)"
   ]
  },
  {
   "cell_type": "code",
   "execution_count": null,
   "id": "acf79015",
   "metadata": {},
   "outputs": [],
   "source": [
    "def reset_parameter_gradient(parameters):\n",
    "    for parameter in parameters:\n",
    "        if parameter.grad is not None:\n",
    "            parameter.grad.zero_()"
   ]
  },
  {
   "cell_type": "code",
   "execution_count": null,
   "id": "ec18793e",
   "metadata": {},
   "outputs": [],
   "source": [
    "# let's take the gradient\n",
    "loss_2 = loss_function(single_prediction, core_output_dataset)\n",
    "reset_parameter_gradient(parameters)\n",
    "loss_2.backward()\n",
    "\n"
   ]
  },
  {
   "cell_type": "code",
   "execution_count": null,
   "id": "76c14bc8",
   "metadata": {},
   "outputs": [],
   "source": [
    "reset_parameter_gradient(parameters)\n",
    "with torch.no_grad():\n",
    "    gradient_descent(parameters, 1e-7)\n",
    "    \n",
    "reset_parameter_gradient(parameters)\n",
    "\n"
   ]
  },
  {
   "cell_type": "code",
   "execution_count": null,
   "id": "817e9917",
   "metadata": {},
   "outputs": [],
   "source": [
    "def train(epoch, parameters, learning_rate, input_data, actual_results):\n",
    "    for i in range(epoch):\n",
    "        prediction = model(input_data, parameters)\n",
    "        loss = loss_function(prediction, actual_results)\n",
    "        loss.backward()\n",
    "        with torch.no_grad():\n",
    "            gradient_descent(parameters, learning_rate)\n",
    "        reset_parameter_gradient(parameters)\n",
    "        print(i)\n",
    "        print(loss)"
   ]
  },
  {
   "cell_type": "code",
   "execution_count": null,
   "id": "99be54fe",
   "metadata": {},
   "outputs": [],
   "source": [
    "train(10000, parameters, 1e-7, core_dataset, core_output_dataset)"
   ]
  },
  {
   "cell_type": "code",
   "execution_count": null,
   "id": "3b266cf7",
   "metadata": {},
   "outputs": [],
   "source": [
    "final_loss = loss_function(model(core_dataset,parameters), core_output_dataset)\n",
    "print(final_loss)"
   ]
  },
  {
   "cell_type": "code",
   "execution_count": null,
   "id": "44c513ee",
   "metadata": {},
   "outputs": [],
   "source": [
    "print(model(core_dataset, parameters))\n",
    "print(core_output_dataset)"
   ]
  },
  {
   "cell_type": "code",
   "execution_count": null,
   "id": "fd7adabd",
   "metadata": {},
   "outputs": [],
   "source": [
    "neural_net = nn.LazyLinear(1)"
   ]
  },
  {
   "cell_type": "code",
   "execution_count": null,
   "id": "90bc163e",
   "metadata": {},
   "outputs": [],
   "source": [
    "print(neural_net.weight)\n",
    "print(neural_net.bias)"
   ]
  },
  {
   "cell_type": "code",
   "execution_count": null,
   "id": "32dfda72",
   "metadata": {},
   "outputs": [],
   "source": [
    "new_loss_function = nn.MSELoss()"
   ]
  },
  {
   "cell_type": "code",
   "execution_count": null,
   "id": "0563e517",
   "metadata": {},
   "outputs": [],
   "source": [
    "optimizer = torch.optim.SGD(neural_net.parameters(), 1e-7)"
   ]
  },
  {
   "cell_type": "code",
   "execution_count": null,
   "id": "917360a8",
   "metadata": {},
   "outputs": [],
   "source": [
    "data_set = TensorDataset(core_dataset, core_output_dataset)\n",
    "\n",
    "data_loader = DataLoader(data_set, 10, shuffle=True)"
   ]
  },
  {
   "cell_type": "code",
   "execution_count": null,
   "id": "5b06a83c",
   "metadata": {},
   "outputs": [],
   "source": [
    "def train_with_imports(epoch, model, learning_rate, dataloader, loss_function):\n",
    "    optimizer = torch.optim.SGD(model.parameters(), learning_rate, weight_decay=2)\n",
    "    for i in range(epoch):\n",
    "        for in_data, out_data in data_loader:\n",
    "            prediction = model(in_data)\n",
    "            loss = loss_function(prediction, out_data)\n",
    "            loss.backward()\n",
    "            optimizer.step()\n",
    "            optimizer.zero_grad()\n",
    "        print(i)\n",
    "        print(loss)\n",
    "    "
   ]
  },
  {
   "cell_type": "code",
   "execution_count": null,
   "id": "c62ce311",
   "metadata": {},
   "outputs": [],
   "source": [
    "train_with_imports(1000, neural_net, 1e-11, data_loader, new_loss_function)"
   ]
  },
  {
   "cell_type": "code",
   "execution_count": null,
   "id": "e21387b0",
   "metadata": {},
   "outputs": [],
   "source": [
    "def l2_norm(input_data):\n",
    "    return ((input_data ** 2).sum()) /2\n"
   ]
  },
  {
   "cell_type": "code",
   "execution_count": null,
   "id": "419d6db9",
   "metadata": {},
   "outputs": [],
   "source": [
    "def loss_function_decay(predicted_values, actual_values, reg_constant, parameters):\n",
    "    return loss_function(predicted_values, actual_values) + (reg_constant * l2_norm(weights))"
   ]
  },
  {
   "cell_type": "code",
   "execution_count": null,
   "id": "b4d6ce1a",
   "metadata": {},
   "outputs": [],
   "source": [
    "\n",
    "def train_with_weight_decay(epoch, parameters, learning_rate, input_data, actual_results, reg_constant):\n",
    "    for i in range(epoch):\n",
    "        prediction = model(input_data, parameters)\n",
    "        loss = loss_function_decay(prediction, actual_results, reg_constant, parameters)\n",
    "        loss.backward()\n",
    "        with torch.no_grad():\n",
    "            gradient_descent(parameters, learning_rate)\n",
    "        reset_parameter_gradient(parameters)\n",
    "        print(i)\n",
    "        print(loss)"
   ]
  },
  {
   "cell_type": "code",
   "execution_count": null,
   "id": "dadc04d7",
   "metadata": {},
   "outputs": [],
   "source": [
    "train_with_weight_decay(100000, parameters, 1e-7, core_dataset, core_output_dataset, 1)"
   ]
  },
  {
   "cell_type": "code",
   "execution_count": null,
   "id": "bf9cecc5",
   "metadata": {},
   "outputs": [],
   "source": []
  }
 ],
 "metadata": {
  "kernelspec": {
   "display_name": "Python 3 (ipykernel)",
   "language": "python",
   "name": "python3"
  },
  "language_info": {
   "codemirror_mode": {
    "name": "ipython",
    "version": 3
   },
   "file_extension": ".py",
   "mimetype": "text/x-python",
   "name": "python",
   "nbconvert_exporter": "python",
   "pygments_lexer": "ipython3",
   "version": "3.11.4"
  }
 },
 "nbformat": 4,
 "nbformat_minor": 5
}
