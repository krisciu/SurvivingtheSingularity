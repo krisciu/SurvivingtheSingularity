{
 "cells": [
  {
   "cell_type": "code",
   "execution_count": null,
   "id": "8f99a988",
   "metadata": {},
   "outputs": [],
   "source": [
    "!pip install numpy torch"
   ]
  },
  {
   "cell_type": "code",
   "execution_count": null,
   "id": "68bca846",
   "metadata": {},
   "outputs": [],
   "source": [
    "import numpy as np\n",
    "import torch"
   ]
  },
  {
   "cell_type": "code",
   "execution_count": null,
   "id": "0fbf0115",
   "metadata": {},
   "outputs": [],
   "source": [
    "# Used https://www.kaggle.com/code/aakashns/pytorch-basics-linear-regression-from-scratch \n",
    "# Used https://d2l.ai/chapter_linear-regression/linear-regression-scratch.html"
   ]
  },
  {
   "cell_type": "code",
   "execution_count": null,
   "id": "d8eb8c46",
   "metadata": {},
   "outputs": [],
   "source": [
    "#Define our data\n",
    "\n",
    "#lets predict the cost of resource_cubes\n",
    "\n",
    "#this is # of essential nutrie\n",
    "\n",
    "core_input_data = torch.round(torch.abs(torch.randn(50,3)) * 1000)\n",
    "\n",
    "print(core_input_data)"
   ]
  },
  {
   "cell_type": "code",
   "execution_count": null,
   "id": "9d803303",
   "metadata": {},
   "outputs": [],
   "source": [
    "core_output_data = torch.round(torch.abs(torch.randn(50,1)) * 1000)\n",
    "print(core_output_data)"
   ]
  },
  {
   "cell_type": "code",
   "execution_count": null,
   "id": "77f4f7bb",
   "metadata": {},
   "outputs": [],
   "source": [
    "#Define our weights\n",
    "weights = torch.randn(3, 1, requires_grad=True)\n",
    "print(weights)"
   ]
  },
  {
   "cell_type": "code",
   "execution_count": null,
   "id": "d64bbbc5",
   "metadata": {},
   "outputs": [],
   "source": [
    "#define our bias\n",
    "bias = torch.randn(1,requires_grad=True)\n",
    "print(bias)\n"
   ]
  },
  {
   "cell_type": "code",
   "execution_count": null,
   "id": "d89fcc15",
   "metadata": {},
   "outputs": [],
   "source": [
    "#lets group these in an array\n",
    "\n",
    "parameters = [weights, bias]"
   ]
  },
  {
   "cell_type": "code",
   "execution_count": null,
   "id": "f6d279b9",
   "metadata": {},
   "outputs": [],
   "source": [
    "# lets define learning rate\n",
    "learning_rate = 1e-7"
   ]
  },
  {
   "cell_type": "code",
   "execution_count": null,
   "id": "6271770b",
   "metadata": {},
   "outputs": [],
   "source": [
    "#Now we define our loss function as squared loss\n",
    "def mean_squared_error(predicted_value, actual_value):\n",
    "        diff = predicted_value - actual_value\n",
    "        return torch.sum(diff * diff) / diff.numel()"
   ]
  },
  {
   "cell_type": "code",
   "execution_count": null,
   "id": "a7b437ac",
   "metadata": {},
   "outputs": [],
   "source": [
    "#Define our optimizer\n",
    "def sgd_optimize(parameters, learning_rate):\n",
    "    for parameter in parameters:\n",
    "        parameter -= learning_rate * parameter.grad\n"
   ]
  },
  {
   "cell_type": "code",
   "execution_count": null,
   "id": "9e98ddd7",
   "metadata": {},
   "outputs": [],
   "source": [
    "# and our optimizer reset\n",
    "def reset_gradients(parameters):\n",
    "    for parameter in parameters:\n",
    "        if parameter.grad is not None:\n",
    "            parameter.grad.zero_()"
   ]
  },
  {
   "cell_type": "code",
   "execution_count": null,
   "id": "2d142d8e",
   "metadata": {},
   "outputs": [],
   "source": [
    "#lets define our actual model\n",
    "#remember, its just the matrix-vector product of the input matrix and our weights, plus our bias\n",
    "def model_predict(input_matrix, weights, bias):\n",
    "    return torch.matmul(input_matrix, weights) + bias"
   ]
  },
  {
   "cell_type": "code",
   "execution_count": null,
   "id": "361bdfe5",
   "metadata": {},
   "outputs": [],
   "source": [
    "# lets see a single run of our model\n",
    "\n",
    "one_prediction = model_predict(core_input_data, weights, bias)\n",
    "\n",
    "print(one_prediction)\n"
   ]
  },
  {
   "cell_type": "code",
   "execution_count": null,
   "id": "b8b0af99",
   "metadata": {},
   "outputs": [],
   "source": [
    "#now lets calculate our error\n",
    "loss = mean_squared_error(one_prediction, core_output_data)\n",
    "print(loss)\n"
   ]
  },
  {
   "cell_type": "code",
   "execution_count": null,
   "id": "f476f639",
   "metadata": {},
   "outputs": [],
   "source": [
    "# we can check the gradients of our tensors wrt to loss\n",
    "loss.backward()\n",
    "print(weights)\n",
    "print(weights.grad)"
   ]
  },
  {
   "cell_type": "code",
   "execution_count": null,
   "id": "5d96d87e",
   "metadata": {},
   "outputs": [],
   "source": [
    "#our gradients are positive, then the value and the loss are positively correlated(increasing value increases loss)\n",
    "# if not negatively correlated\n",
    "print(parameters[0].grad)\n",
    "print(weights.grad)\n",
    "print(parameters[1].grad)\n",
    "print(bias.grad)"
   ]
  },
  {
   "cell_type": "code",
   "execution_count": null,
   "id": "5bf20872",
   "metadata": {},
   "outputs": [],
   "source": [
    "#now we can optimize\n",
    "with torch.no_grad():\n",
    "    print(sgd_optimize(parameters, 1e-5))"
   ]
  },
  {
   "cell_type": "code",
   "execution_count": null,
   "id": "c4b133c5",
   "metadata": {},
   "outputs": [],
   "source": [
    "print(parameters)"
   ]
  },
  {
   "cell_type": "code",
   "execution_count": null,
   "id": "c1b2930b",
   "metadata": {},
   "outputs": [],
   "source": [
    "#we want to reset\n",
    "#reset_gradients(parameters)"
   ]
  },
  {
   "cell_type": "code",
   "execution_count": null,
   "id": "10fa93fd",
   "metadata": {},
   "outputs": [],
   "source": [
    "#now we can define a train\n",
    "\n",
    "def train(epoch, parameters, learning_rate, input_data, output_data):\n",
    "    for i in range(epoch):\n",
    "        prediction = model_predict(input_data, parameters[0], parameters[1])\n",
    "        loss = mean_squared_error(prediction, output_data)\n",
    "        loss.backward()\n",
    "        with torch.no_grad():\n",
    "            sgd_optimize(parameters, learning_rate)\n",
    "        print(i)\n",
    "        print(loss)\n",
    "        \n",
    "            \n",
    "    return prediction"
   ]
  },
  {
   "cell_type": "code",
   "execution_count": null,
   "id": "d0f7ac06",
   "metadata": {},
   "outputs": [],
   "source": [
    "#lets see how we did!\n",
    "\n",
    "train(100, parameters, learning_rate, core_input_data, core_output_data )"
   ]
  },
  {
   "cell_type": "code",
   "execution_count": null,
   "id": "7900a443",
   "metadata": {},
   "outputs": [],
   "source": []
  }
 ],
 "metadata": {
  "kernelspec": {
   "display_name": "Python 3 (ipykernel)",
   "language": "python",
   "name": "python3"
  },
  "language_info": {
   "codemirror_mode": {
    "name": "ipython",
    "version": 3
   },
   "file_extension": ".py",
   "mimetype": "text/x-python",
   "name": "python",
   "nbconvert_exporter": "python",
   "pygments_lexer": "ipython3",
   "version": "3.11.4"
  }
 },
 "nbformat": 4,
 "nbformat_minor": 5
}
