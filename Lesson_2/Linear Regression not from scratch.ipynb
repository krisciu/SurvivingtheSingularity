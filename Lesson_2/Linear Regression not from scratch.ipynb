{
 "cells": [
  {
   "cell_type": "code",
   "execution_count": null,
   "id": "ce650e8b",
   "metadata": {},
   "outputs": [],
   "source": [
    "# Linear Regression(NOT FROM SCRATCH edition)\n",
    "\n"
   ]
  },
  {
   "cell_type": "code",
   "execution_count": null,
   "id": "7b8e1ae8",
   "metadata": {},
   "outputs": [],
   "source": [
    "!pip install numpy torch"
   ]
  },
  {
   "cell_type": "code",
   "execution_count": null,
   "id": "cd1de63c",
   "metadata": {},
   "outputs": [],
   "source": [
    "import torch \n",
    "from torch import nn\n",
    "from torch.utils.data import TensorDataset, DataLoader"
   ]
  },
  {
   "cell_type": "code",
   "execution_count": null,
   "id": "288b5d78",
   "metadata": {},
   "outputs": [],
   "source": [
    "#Define our data\n",
    "\n",
    "#lets predict the cost of nutrient-cuboids in a region given the number of Neural-Enforcers,\n",
    "    #Price of \"life-force retainment fee(in trash cubes)\n",
    "    # and something else idk\n",
    "\n",
    "\n",
    "core_input_data = torch.round(torch.abs(torch.randn(50,3)) * 1000)\n",
    "\n",
    "print(core_input_data)\n"
   ]
  },
  {
   "cell_type": "code",
   "execution_count": null,
   "id": "b433da62",
   "metadata": {},
   "outputs": [],
   "source": [
    "core_output_data = torch.round(torch.abs(torch.randn(50,1)) * 1000)\n",
    "print(core_output_data)"
   ]
  },
  {
   "cell_type": "code",
   "execution_count": null,
   "id": "c1563a9b",
   "metadata": {},
   "outputs": [],
   "source": [
    "#lets make our neural net\n",
    "\n",
    "neural_net = nn.LazyLinear(1)\n",
    "\n",
    "\n",
    "print(neural_net.weight)\n",
    "\n",
    "print(neural_net.bias)"
   ]
  },
  {
   "cell_type": "code",
   "execution_count": null,
   "id": "0cfd5571",
   "metadata": {},
   "outputs": [],
   "source": [
    "#lets make our loss function\n",
    "\n",
    "MSE = nn.MSELoss()\n",
    "\n",
    "\n"
   ]
  },
  {
   "cell_type": "code",
   "execution_count": null,
   "id": "91436761",
   "metadata": {},
   "outputs": [],
   "source": [
    "#Lets make our optimizer\n",
    "optimizer = torch.optim.SGD(neural_net.parameters(), 1e-5)"
   ]
  },
  {
   "cell_type": "code",
   "execution_count": null,
   "id": "be08174a",
   "metadata": {},
   "outputs": [],
   "source": [
    "#lets use a dataloader\n",
    "data_set = TensorDataset(core_input_data, core_output_data)\n",
    "\n",
    "data_loader = DataLoader(data_set, 5, shuffle=True)"
   ]
  },
  {
   "cell_type": "code",
   "execution_count": null,
   "id": "d59ec5aa",
   "metadata": {},
   "outputs": [],
   "source": [
    "def train(epoch, model, learning_rate, dataloader, loss_function):\n",
    "    optimizer = torch.optim.SGD(model.parameters(), learning_rate)\n",
    "    for i in range(epoch):\n",
    "        for in_data, out_data in data_loader:\n",
    "            prediction = model(in_data)\n",
    "            loss = loss_function(prediction, out_data)\n",
    "            loss.backward()\n",
    "            optimizer.step()\n",
    "            optimizer.zero_grad()\n",
    "\n",
    "        print(i)\n",
    "        print(loss_function(model(core_input_data), core_output_data))\n",
    "        \n",
    "            \n",
    "    return prediction"
   ]
  },
  {
   "cell_type": "code",
   "execution_count": null,
   "id": "f64de0c9",
   "metadata": {},
   "outputs": [],
   "source": [
    "train(10, neural_net, 1e-9, data_loader, loss_function)"
   ]
  },
  {
   "cell_type": "code",
   "execution_count": null,
   "id": "33af9b4e",
   "metadata": {},
   "outputs": [],
   "source": [
    "# now let's see how we did!\n",
    "prediction = neural_net(core_input_data)\n",
    "print(prediction)\n",
    "final_loss = loss_function(prediction, core_output_data)\n",
    "print(final_loss)"
   ]
  },
  {
   "cell_type": "code",
   "execution_count": null,
   "id": "7ed2da3f",
   "metadata": {},
   "outputs": [],
   "source": [
    "def train_with_weight_decay(epoch, model, learning_rate, dataloader, loss_function, decay_factor):\n",
    "    optimizer = torch.optim.SGD(model.parameters(), learning_rate, weight_decay=decay_factor)\n",
    "    for i in range(epoch):\n",
    "        for in_data, out_data in data_loader:\n",
    "            prediction = model(in_data)\n",
    "            loss = loss_function(prediction, out_data)\n",
    "            loss.backward()\n",
    "            optimizer.step()\n",
    "            optimizer.zero_grad()\n",
    "\n",
    "        print(i)\n",
    "        print(loss_function(model(core_input_data), core_output_data))\n",
    "        \n",
    "            \n",
    "    return prediction"
   ]
  },
  {
   "cell_type": "code",
   "execution_count": null,
   "id": "d115ae89",
   "metadata": {},
   "outputs": [],
   "source": [
    "train_with_weight_decay(10, neural_net, 1e-9, data_loader, loss_function, 2)"
   ]
  },
  {
   "cell_type": "code",
   "execution_count": null,
   "id": "5530703a",
   "metadata": {},
   "outputs": [],
   "source": [
    "# now let's see how we did!\n",
    "prediction = neural_net(core_input_data)\n",
    "print(prediction)\n",
    "final_loss = loss_function(prediction, core_output_data)\n",
    "print(final_loss)\n"
   ]
  },
  {
   "cell_type": "code",
   "execution_count": null,
   "id": "3a7ed13e",
   "metadata": {},
   "outputs": [],
   "source": []
  }
 ],
 "metadata": {
  "kernelspec": {
   "display_name": "Python 3 (ipykernel)",
   "language": "python",
   "name": "python3"
  },
  "language_info": {
   "codemirror_mode": {
    "name": "ipython",
    "version": 3
   },
   "file_extension": ".py",
   "mimetype": "text/x-python",
   "name": "python",
   "nbconvert_exporter": "python",
   "pygments_lexer": "ipython3",
   "version": "3.11.4"
  }
 },
 "nbformat": 4,
 "nbformat_minor": 5
}
